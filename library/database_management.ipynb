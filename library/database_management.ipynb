{
 "cells": [
  {
   "attachments": {},
   "cell_type": "markdown",
   "metadata": {},
   "source": [
    "# Website database management"
   ]
  },
  {
   "attachments": {},
   "cell_type": "markdown",
   "metadata": {},
   "source": [
    "This is temporary Jupyter Notebook/Dashboard for routine database management task. Use this as a trial for various tasks.  \n",
    "When tasks are mature, move them to python scripts that can be run as a cron job."
   ]
  },
  {
   "cell_type": "code",
   "execution_count": 1,
   "metadata": {},
   "outputs": [],
   "source": [
    "import sqlite3\n",
    "from pathlib import Path"
   ]
  },
  {
   "cell_type": "code",
   "execution_count": 2,
   "metadata": {},
   "outputs": [],
   "source": [
    "#    Constants\n",
    "# -------------------------------------------------------------------- #\n",
    "\n",
    "DB_FOLDER = Path('../')\n",
    "DB_NAMES = {\n",
    "    'default_db': 'db.sqlite3',\n",
    "    'old_messages_db': 'db_old_messages.sqlite3',\n",
    "    'analytics_db': 'db_analytics.sqlite3',\n",
    "}"
   ]
  },
  {
   "attachments": {},
   "cell_type": "markdown",
   "metadata": {},
   "source": [
    "## Create functions"
   ]
  },
  {
   "attachments": {},
   "cell_type": "markdown",
   "metadata": {},
   "source": [
    "Note that `conn` and `cursor` would not live outside the function (true for Python, although sqlite file handling may bring an exception). So it's (probably) safe to use these functions freely at any time without worrying about existing connections called `conn` or `cursor`. "
   ]
  },
  {
   "cell_type": "code",
   "execution_count": 3,
   "metadata": {},
   "outputs": [],
   "source": [
    "# create a function to display a list of matching tables in a database\n",
    "def show_tables(db_path, matching:str = ''):\n",
    "    conn = sqlite3.connect(db_path)\n",
    "    cursor = conn.cursor()\n",
    "    cursor.execute(\"SELECT name FROM sqlite_master WHERE type='table' AND name LIKE '%\" + matching + \"%'\")\n",
    "    tables_list = cursor.fetchall()\n",
    "    conn.close()\n",
    "    return tables_list\n",
    "\n",
    "# show the list of all columns in the table\n",
    "def show_columns(db_path, table_name):\n",
    "    conn = sqlite3.connect(db_path)\n",
    "    cursor = conn.cursor()\n",
    "    cursor.execute(\"SELECT * FROM \" + table_name)\n",
    "    columns_list = [description[0] for description in cursor.description]\n",
    "    conn.close()\n",
    "    return columns_list"
   ]
  },
  {
   "attachments": {},
   "cell_type": "markdown",
   "metadata": {},
   "source": [
    "## Test functions"
   ]
  },
  {
   "attachments": {},
   "cell_type": "markdown",
   "metadata": {},
   "source": [
    "### Show tables in a database"
   ]
  },
  {
   "cell_type": "code",
   "execution_count": 5,
   "metadata": {},
   "outputs": [
    {
     "data": {
      "text/plain": [
       "[('base_proposal',),\n",
       " ('base_teaching',),\n",
       " ('base_workhighlight',),\n",
       " ('base_skillset',),\n",
       " ('base_honorandaward',)]"
      ]
     },
     "execution_count": 5,
     "metadata": {},
     "output_type": "execute_result"
    }
   ],
   "source": [
    "# show first five tables in main db matching base\n",
    "show_tables((DB_FOLDER / DB_NAMES['default_db']), 'base')[:5]"
   ]
  },
  {
   "attachments": {},
   "cell_type": "markdown",
   "metadata": {},
   "source": [
    "### Show columns in a table"
   ]
  },
  {
   "cell_type": "code",
   "execution_count": 6,
   "metadata": {},
   "outputs": [
    {
     "data": {
      "text/plain": [
       "['id',\n",
       " 'senders_name',\n",
       " 'senders_email',\n",
       " 'message',\n",
       " 'timestamp',\n",
       " 'email_in_success',\n",
       " 'email_out_success',\n",
       " 'hidden_field']"
      ]
     },
     "execution_count": 6,
     "metadata": {},
     "output_type": "execute_result"
    }
   ],
   "source": [
    "# show columns in table base_message\n",
    "show_columns((DB_FOLDER / DB_NAMES['default_db']), 'base_message')"
   ]
  },
  {
   "cell_type": "code",
   "execution_count": 7,
   "metadata": {},
   "outputs": [
    {
     "data": {
      "text/plain": [
       "['id',\n",
       " 'timestamp',\n",
       " 'content_type',\n",
       " 'http_accept_language',\n",
       " 'http_host',\n",
       " 'http_referer',\n",
       " 'http_user_agent',\n",
       " 'remote_host',\n",
       " 'remote_user',\n",
       " 'remote_port',\n",
       " 'request_method',\n",
       " 'server_name',\n",
       " 'server_port',\n",
       " 'remote_addr',\n",
       " 'visited_page']"
      ]
     },
     "execution_count": 7,
     "metadata": {},
     "output_type": "execute_result"
    }
   ],
   "source": [
    "# show columns in table base_analytic\n",
    "show_columns((DB_FOLDER / DB_NAMES['default_db']), 'base_analytic')"
   ]
  },
  {
   "attachments": {},
   "cell_type": "markdown",
   "metadata": {},
   "source": [
    "## Tasks"
   ]
  },
  {
   "attachments": {},
   "cell_type": "markdown",
   "metadata": {},
   "source": [
    "### Move messages to a different database\n",
    "\n",
    "In order to keep the default Django database small, we will periodically move messages to a different database. What's a good way to do this?\n",
    "- Because we read messages from the default database, it's not a good idea to move all messages out form there. Especially if we do this as a cron job, we won't have time to read the messages before they are moved.\n",
    "- Plan to keep most recent 60 days or so worth of messages in the default database.\n",
    "- Move older or all messages to a different database. Just make sure to not make duplicate entries."
   ]
  },
  {
   "cell_type": "code",
   "execution_count": 17,
   "metadata": {},
   "outputs": [
    {
     "name": "stdout",
     "output_type": "stream",
     "text": [
      "[(0, 'main', 'd:\\\\OneDrive\\\\Development\\\\Sites\\\\prateekverma\\\\old_messages.sqlite3'), (2, 'default_db', 'd:\\\\OneDrive\\\\Development\\\\Sites\\\\prateekverma\\\\db.sqlite3')]\n",
      "\n",
      "Tables found in old_messages_db:\n",
      "[('base_message',)]\n",
      "\n",
      "Last 5 rows of main.base_message:\n",
      "[]\n",
      "\n",
      "main.base_message contains 0 rows\n",
      "default_db.base_message contains 7456 rows\n"
     ]
    }
   ],
   "source": [
    "#    Connect to both databases\n",
    "# -------------------------------------------------------------------- #\n",
    "\n",
    "# create a database to store old messages \n",
    "# NOTE: this will be called `main`\n",
    "conn = sqlite3.connect((DB_FOLDER / DB_NAMES['old_messages_db']))\n",
    "\n",
    "# attach the default database to the connection (avoiding using `main` as a keyword as that seems to be a reserved word in sqlite3)\n",
    "conn.execute(\"ATTACH DATABASE '\" + str(DB_FOLDER / DB_NAMES['default_db']) + \"' AS default_db\")\n",
    "\n",
    "# create a copy of the table base_message without data\n",
    "conn.execute(\"CREATE TABLE IF NOT EXISTS main.base_message AS SELECT * FROM default_db.base_message WHERE 0\")\n",
    "\n",
    "cursor = conn.cursor()\n",
    "\n",
    "# just for fun, print the databases the cursor is connected to\n",
    "cursor.execute(\"PRAGMA database_list\")\n",
    "print(cursor.fetchall())\n",
    "\n",
    "# check that the old_messages database contains the base_message table\n",
    "# NOTE: the function show_tables() will not work here because it uses a different connection and the db file hasn't actually been saved yet\n",
    "print()\n",
    "print('Tables found in old_messages_db:')\n",
    "cursor.execute(\"SELECT name FROM sqlite_master WHERE type='table'\")\n",
    "print(cursor.fetchall())\n",
    "\n",
    "# print the last 5 rows of the main.base_message table\n",
    "print()\n",
    "print('Last 5 rows of main.base_message:')\n",
    "cursor.execute(\"SELECT * FROM main.base_message ORDER BY id DESC LIMIT 5\")\n",
    "print(cursor.fetchall())\n",
    "\n",
    "# print the number of rows in the main.base_message table\n",
    "print()\n",
    "cursor.execute(\"SELECT COUNT(*) FROM main.base_message\")\n",
    "print('main.base_message contains', cursor.fetchone()[0], 'rows')\n",
    "\n",
    "# print the number of rows in the default.base_message table\n",
    "cursor.execute(\"SELECT COUNT(*) FROM default_db.base_message\")\n",
    "print('default_db.base_message contains', cursor.fetchone()[0], 'rows')"
   ]
  },
  {
   "cell_type": "code",
   "execution_count": 19,
   "metadata": {},
   "outputs": [
    {
     "name": "stdout",
     "output_type": "stream",
     "text": [
      "main.base_message contains 7456 rows\n",
      "default_db.base_message contains 0 rows\n"
     ]
    }
   ],
   "source": [
    "#    Move old messages to old_messages_db\n",
    "# -------------------------------------------------------------------- #\n",
    "\n",
    "# copy entries older than 60 days from default_db.base_message to main.base_message if they don't already exist\n",
    "cursor.execute(\"INSERT INTO main.base_message SELECT * FROM default_db.base_message WHERE id NOT IN (SELECT id FROM main.base_message) AND timestamp < date('now', '-60 day')\")\n",
    "\n",
    "# delete entries in default_db.base_message already in main.base_message and (just for safety) older than 60 days\n",
    "cursor.execute(\"DELETE FROM default_db.base_message WHERE id IN (SELECT id FROM main.base_message) AND timestamp < date('now', '-60 day')\")\n",
    "\n",
    "# print the number of rows in the main.base_message table\n",
    "cursor.execute(\"SELECT COUNT(*) FROM main.base_message\")\n",
    "print('main.base_message contains', cursor.fetchone()[0], 'rows')\n",
    "\n",
    "# print the number of rows in the default.base_message table\n",
    "cursor.execute(\"SELECT COUNT(*) FROM default_db.base_message\")\n",
    "print('default_db.base_message contains', cursor.fetchone()[0], 'rows')"
   ]
  },
  {
   "cell_type": "code",
   "execution_count": 20,
   "metadata": {},
   "outputs": [],
   "source": [
    "#    Commit and save changes\n",
    "# -------------------------------------------------------------------- #\n",
    "\n",
    "# commit changes and close the connection\n",
    "conn.commit()\n",
    "conn.close()"
   ]
  },
  {
   "attachments": {},
   "cell_type": "markdown",
   "metadata": {},
   "source": [
    "That's it. Some things we can do further:\n",
    "- prune the old messages database for spam messages periodically. We can just auto delete spams older than 60 days from the latest timestamp in the database. Or we can prune the entire databse of spams manually.\n",
    "- we can prepare and send a digest weekly/monthly, if we ever set this as a cron job."
   ]
  },
  {
   "attachments": {},
   "cell_type": "markdown",
   "metadata": {},
   "source": [
    "### Move analytics to a different database\n",
    "\n",
    "We don't need to keep any analytics in the default database. Whenever we run this script, whether manually or periodically through cron, we can move all analytics to a different database."
   ]
  },
  {
   "cell_type": "code",
   "execution_count": 21,
   "metadata": {},
   "outputs": [
    {
     "name": "stdout",
     "output_type": "stream",
     "text": [
      "[(0, 'main', 'd:\\\\OneDrive\\\\Development\\\\Sites\\\\prateekverma\\\\analytics.sqlite3'), (2, 'default_db', 'd:\\\\OneDrive\\\\Development\\\\Sites\\\\prateekverma\\\\db.sqlite3')]\n",
      "\n",
      "Tables found in analytics_db:\n",
      "[('base_analytic',)]\n",
      "\n",
      "Last 5 rows of main.base_analytic:\n",
      "[]\n",
      "\n",
      "main.base_analytic contains 0 rows\n",
      "default_db.base_analytic contains 42625 rows\n"
     ]
    }
   ],
   "source": [
    "#    Connect to both databases\n",
    "# -------------------------------------------------------------------- #\n",
    "\n",
    "# create a database to store analytics\n",
    "# NOTE: this will be called `main`\n",
    "conn = sqlite3.connect((DB_FOLDER / DB_NAMES['analytics_db']))\n",
    "\n",
    "# attach the default database to the connection (avoiding using `main` as a keyword as that seems to be a reserved word in sqlite3)\n",
    "conn.execute(\"ATTACH DATABASE '\" + str(DB_FOLDER / DB_NAMES['default_db']) + \"' AS default_db\")\n",
    "\n",
    "# create a copy of the table base_analytic without data\n",
    "conn.execute(\"CREATE TABLE IF NOT EXISTS main.base_analytic AS SELECT * FROM default_db.base_analytic WHERE 0\")\n",
    "\n",
    "cursor = conn.cursor()\n",
    "\n",
    "# just for fun, print the databases the cursor is connected to\n",
    "cursor.execute(\"PRAGMA database_list\")\n",
    "print(cursor.fetchall())\n",
    "\n",
    "# check that the analytics database contains the base_analytic table\n",
    "# NOTE: the function show_tables() will not work here because it uses a different connection and the db file hasn't actually been saved yet\n",
    "print()\n",
    "print('Tables found in analytics_db:')\n",
    "cursor.execute(\"SELECT name FROM sqlite_master WHERE type='table'\")\n",
    "print(cursor.fetchall())\n",
    "\n",
    "# print the last 5 rows of the main.base_analytic table\n",
    "print()\n",
    "print('Last 5 rows of main.base_analytic:')\n",
    "cursor.execute(\"SELECT * FROM main.base_analytic ORDER BY id DESC LIMIT 5\")\n",
    "print(cursor.fetchall())\n",
    "\n",
    "# print the number of rows in the main.base_analytic table\n",
    "print()\n",
    "cursor.execute(\"SELECT COUNT(*) FROM main.base_analytic\")\n",
    "print('main.base_analytic contains', cursor.fetchone()[0], 'rows')\n",
    "\n",
    "# print the number of rows in the default.base_analytic table\n",
    "cursor.execute(\"SELECT COUNT(*) FROM default_db.base_analytic\")\n",
    "print('default_db.base_analytic contains', cursor.fetchone()[0], 'rows')"
   ]
  },
  {
   "cell_type": "code",
   "execution_count": 22,
   "metadata": {},
   "outputs": [
    {
     "name": "stdout",
     "output_type": "stream",
     "text": [
      "main.base_analytic contains 42625 rows\n",
      "default_db.base_analytic contains 0 rows\n"
     ]
    }
   ],
   "source": [
    "#    Move analytics to analytics_db\n",
    "# -------------------------------------------------------------------- #\n",
    "\n",
    "# copy entries from default_db.base_analytic to main.base_analytic if they don't already exist\n",
    "cursor.execute(\"INSERT INTO main.base_analytic SELECT * FROM default_db.base_analytic WHERE id NOT IN (SELECT id FROM main.base_analytic)\")\n",
    "\n",
    "# delete entries in default_db.base_analytic already in main.base_analytic\n",
    "cursor.execute(\"DELETE FROM default_db.base_analytic WHERE id IN (SELECT id FROM main.base_analytic)\")\n",
    "\n",
    "# print the number of rows in the main.base_analytic table\n",
    "cursor.execute(\"SELECT COUNT(*) FROM main.base_analytic\")\n",
    "print('main.base_analytic contains', cursor.fetchone()[0], 'rows')\n",
    "\n",
    "# print the number of rows in the default.base_analytic table\n",
    "cursor.execute(\"SELECT COUNT(*) FROM default_db.base_analytic\")\n",
    "print('default_db.base_analytic contains', cursor.fetchone()[0], 'rows')"
   ]
  },
  {
   "cell_type": "code",
   "execution_count": 23,
   "metadata": {},
   "outputs": [],
   "source": [
    "#    Commit and save changes\n",
    "# -------------------------------------------------------------------- #\n",
    "\n",
    "# commit changes and close the connection\n",
    "conn.commit()\n",
    "conn.close()"
   ]
  },
  {
   "attachments": {},
   "cell_type": "markdown",
   "metadata": {},
   "source": [
    "### Vacuum database to reclaim space\n",
    "\n",
    "We can run this periodically to reclaim space if large amount of data is deleted. In a routine scenario, this won't be needed as the database file size will remain small and approximately the same."
   ]
  },
  {
   "cell_type": "code",
   "execution_count": 24,
   "metadata": {},
   "outputs": [],
   "source": [
    "# vacuum the default database to reduce file size\n",
    "conn = sqlite3.connect((DB_FOLDER / DB_NAMES['default_db']))\n",
    "conn.execute(\"VACUUM\")\n",
    "conn.close()"
   ]
  }
 ],
 "metadata": {
  "kernelspec": {
   "display_name": "Python 3",
   "language": "python",
   "name": "python3"
  },
  "language_info": {
   "codemirror_mode": {
    "name": "ipython",
    "version": 3
   },
   "file_extension": ".py",
   "mimetype": "text/x-python",
   "name": "python",
   "nbconvert_exporter": "python",
   "pygments_lexer": "ipython3",
   "version": "3.9.16"
  },
  "orig_nbformat": 4
 },
 "nbformat": 4,
 "nbformat_minor": 2
}
