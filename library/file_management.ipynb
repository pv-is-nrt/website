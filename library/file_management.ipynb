{
 "cells": [
  {
   "attachments": {},
   "cell_type": "markdown",
   "metadata": {},
   "source": [
    "# Website file management\n",
    "\n",
    "Use this notebook for routine file and disk management tasks."
   ]
  },
  {
   "cell_type": "code",
   "execution_count": 8,
   "metadata": {},
   "outputs": [],
   "source": [
    "import os\n",
    "import shutil\n",
    "from pathlib import Path"
   ]
  },
  {
   "cell_type": "code",
   "execution_count": 17,
   "metadata": {},
   "outputs": [],
   "source": [
    "#    Constants\n",
    "# -------------------------------------------------------------------- #\n",
    "\n",
    "# set root path to home directory\n",
    "# WEBSITE_PATH = Path.home()\n",
    "WEBSITE_PATH = Path('../..')\n",
    "WEBSITE_FOLDER_NAME = 'prateekverma'"
   ]
  },
  {
   "attachments": {},
   "cell_type": "markdown",
   "metadata": {},
   "source": [
    "## Make a zip archive of a directory\n",
    "\n",
    "This function is a little tricky, crazy confusing. Note the four arguments:\n",
    "- base_name: string path to the zip file to be created (seems that it could be relative)\n",
    "- format: extension will be added automatically\n",
    "- root_dir: root directory of the folder to be zipped\n",
    "- base_dir: name of the folder to be zipped (it's more than that I think but this is all we need)"
   ]
  },
  {
   "cell_type": "code",
   "execution_count": 26,
   "metadata": {},
   "outputs": [
    {
     "data": {
      "text/plain": [
       "'d:\\\\OneDrive\\\\Development\\\\Sites\\\\prateekverma.zip'"
      ]
     },
     "execution_count": 26,
     "metadata": {},
     "output_type": "execute_result"
    }
   ],
   "source": [
    "# use shutil to create a zip file of the WEBSITE_FOLDER_NAME\n",
    "shutil.make_archive(\n",
    "    str(Path(WEBSITE_PATH, WEBSITE_FOLDER_NAME)), 'zip', \n",
    "    WEBSITE_PATH, \n",
    "    WEBSITE_FOLDER_NAME)"
   ]
  }
 ],
 "metadata": {
  "kernelspec": {
   "display_name": "Python 3",
   "language": "python",
   "name": "python3"
  },
  "language_info": {
   "codemirror_mode": {
    "name": "ipython",
    "version": 3
   },
   "file_extension": ".py",
   "mimetype": "text/x-python",
   "name": "python",
   "nbconvert_exporter": "python",
   "pygments_lexer": "ipython3",
   "version": "3.8.16"
  },
  "orig_nbformat": 4
 },
 "nbformat": 4,
 "nbformat_minor": 2
}
